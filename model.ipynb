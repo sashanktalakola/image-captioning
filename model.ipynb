{
 "cells": [
  {
   "cell_type": "markdown",
   "id": "535e2669-85d5-48b5-b93d-dd489bafcfc2",
   "metadata": {},
   "source": [
    "# Import Libraries"
   ]
  },
  {
   "cell_type": "code",
   "execution_count": 13,
   "id": "3489fe81-c874-416f-84a4-39f671a489ef",
   "metadata": {},
   "outputs": [],
   "source": [
    "import pandas as pd\n",
    "import numpy as np\n",
    "import os\n",
    "\n",
    "from PIL import Image\n",
    "\n",
    "import torch\n",
    "from torch.utils.data import Dataset, DataLoader\n",
    "from torchvision import transforms\n",
    "from transformers import BertTokenizer"
   ]
  },
  {
   "cell_type": "markdown",
   "id": "0130ee9a-f637-47b4-8d43-71e422cf4746",
   "metadata": {},
   "source": [
    "# Dataset"
   ]
  },
  {
   "cell_type": "code",
   "execution_count": 48,
   "id": "44faa5c4-e108-4226-a9e8-2e9bbf6ece7d",
   "metadata": {},
   "outputs": [],
   "source": [
    "class Flickr30kDataset(Dataset):\n",
    "    def __init__(self, image_dir, caption_file, transform=None, tokenizer=None, max_length=50):\n",
    "        \n",
    "        self.image_dir = image_dir\n",
    "        self.caption_file = caption_file\n",
    "        self.transform = transform\n",
    "        self.tokenizer = tokenizer\n",
    "        self.max_length = max_length\n",
    "\n",
    "        self.captions = self._load_captions()\n",
    "        \n",
    "\n",
    "    def _load_captions(self):\n",
    "\n",
    "        df = pd.read_csv(self.caption_file, delimiter=\"|\")\n",
    "        return df\n",
    "\n",
    "    def __len__(self):\n",
    "        return len(self.captions)\n",
    "\n",
    "    def __getitem__(self, i):\n",
    "\n",
    "        image_name = self.captions.loc[i, \"image_name\"]\n",
    "        caption = self.captions.loc[i, \" comment\"]\n",
    "\n",
    "        image_path = os.path.join(self.image_dir, image_name)\n",
    "        image = Image.open(image_path).convert(\"RGB\")\n",
    "\n",
    "        if self.transform:\n",
    "            image = self.transform(image)\n",
    "\n",
    "        encoding = self.tokenizer.encode_plus(\n",
    "            caption,\n",
    "            add_special_tokens=True,\n",
    "            max_length=self.max_length,\n",
    "            padding='max_length',\n",
    "            truncation=True,\n",
    "            return_tensors='pt',\n",
    "        )\n",
    "\n",
    "        caption_tokenized = encoding['input_ids'].squeeze(0)\n",
    "\n",
    "        return image, caption_tokenized\n"
   ]
  },
  {
   "cell_type": "code",
   "execution_count": 49,
   "id": "854c6de7-5bf9-4d5e-aa50-55155376af13",
   "metadata": {},
   "outputs": [],
   "source": [
    "image_dir = \"data/flickr30k_images\"\n",
    "caption_file = \"data/results.csv\"\n",
    "tokenizer = BertTokenizer.from_pretrained('bert-base-uncased')\n",
    "\n",
    "transform = transforms.Compose([\n",
    "    transforms.Resize((224, 224)),\n",
    "    transforms.ToTensor(),\n",
    "    transforms.Normalize(\n",
    "        mean=[0.485, 0.456, 0.406],\n",
    "        std=[0.229, 0.224, 0.225]\n",
    "    )\n",
    "])\n",
    "\n",
    "ds = Flickr30kDataset(image_dir, caption_file, transform=transform, tokenizer=tokenizer, max_length=50)\n",
    "dl = DataLoader(ds, batch_size=32)"
   ]
  },
  {
   "cell_type": "code",
   "execution_count": 50,
   "id": "1582dbf6-689c-4168-97bc-4f71d613f372",
   "metadata": {},
   "outputs": [],
   "source": [
    "a, b = next(iter(dl))"
   ]
  },
  {
   "cell_type": "code",
   "execution_count": 47,
   "id": "0d9ea009-d53b-46f2-adfc-7bbc120b7ea2",
   "metadata": {},
   "outputs": [
    {
     "data": {
      "text/plain": [
       "(torch.Size([32, 3, 224, 224]), torch.Size([32, 50]))"
      ]
     },
     "execution_count": 47,
     "metadata": {},
     "output_type": "execute_result"
    }
   ],
   "source": [
    "a.size(), b.size()"
   ]
  }
 ],
 "metadata": {
  "kernelspec": {
   "display_name": "Python 3 (ipykernel)",
   "language": "python",
   "name": "python3"
  },
  "language_info": {
   "codemirror_mode": {
    "name": "ipython",
    "version": 3
   },
   "file_extension": ".py",
   "mimetype": "text/x-python",
   "name": "python",
   "nbconvert_exporter": "python",
   "pygments_lexer": "ipython3",
   "version": "3.12.3"
  }
 },
 "nbformat": 4,
 "nbformat_minor": 5
}
